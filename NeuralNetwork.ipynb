{
 "cells": [
  {
   "cell_type": "code",
   "execution_count": null,
   "metadata": {},
   "outputs": [],
   "source": [
    "import datetime, time\n",
    "import numpy as np\n",
    "import pandas as pd\n",
    "\n",
    "import tensorflow as tf\n",
    "\n",
    "import matplotlib.pyplot as plt\n",
    "\n",
    "from sklearn.metrics import mean_squared_error\n",
    "\n",
    "# from sklearn.model_selection import GridSearchCV\n",
    "from sklearn.model_selection import KFold\n",
    "\n",
    "import itertools\n",
    "\n",
    "from IPython.display import clear_output, display, HTML"
   ]
  },
  {
   "cell_type": "code",
   "execution_count": null,
   "metadata": {},
   "outputs": [],
   "source": [
    "# Ignore warning\n",
    "import warnings\n",
    "warnings.filterwarnings('ignore')"
   ]
  },
  {
   "cell_type": "code",
   "execution_count": null,
   "metadata": {},
   "outputs": [],
   "source": [
    "pd.set_option('display.max_columns', None)  # or 1000\n",
    "pd.set_option('display.max_rows', None)  # or 1000\n",
    "pd.set_option('display.max_colwidth', -1)  # or 199"
   ]
  },
  {
   "cell_type": "code",
   "execution_count": null,
   "metadata": {},
   "outputs": [],
   "source": [
    "train = pd.read_csv(\"train_preprocessed.csv\")\n",
    "test = pd.read_csv(\"test_preprocessed.csv\")\n",
    "all_data = pd.read_csv(\"all_data_preprocessed.csv\")"
   ]
  },
  {
   "cell_type": "code",
   "execution_count": null,
   "metadata": {},
   "outputs": [],
   "source": [
    "train_X = train.loc[:, train.columns != 'totals_totalTransactionRevenue']\n",
    "train_y = train['totals_totalTransactionRevenue']"
   ]
  },
  {
   "cell_type": "code",
   "execution_count": null,
   "metadata": {},
   "outputs": [],
   "source": [
    "test_X = test.loc[:, test.columns != 'totals_totalTransactionRevenue']\n",
    "test_y = test['totals_totalTransactionRevenue']"
   ]
  },
  {
   "cell_type": "code",
   "execution_count": null,
   "metadata": {},
   "outputs": [],
   "source": [
    "all_data_X = all_data.loc[:, all_data.columns != 'totals_totalTransactionRevenue']\n",
    "all_data_y = all_data['totals_totalTransactionRevenue']"
   ]
  },
  {
   "cell_type": "code",
   "execution_count": null,
   "metadata": {},
   "outputs": [],
   "source": [
    "activation_functions = [None, tf.nn.relu, tf.nn.leaky_relu, tf.nn.log_softmax]\n",
    "hidden_layer_sizes = [(10,), (14, 7), (14, 7, 3)]\n",
    "epochs = [2, 5, 10]\n",
    "optimizers = ['adadelta', 'sgd', 'adam']\n",
    "\n",
    "parameters = []\n",
    "for e in epochs:\n",
    "    for o in optimizers:\n",
    "        for hidden in hidden_layer_sizes:\n",
    "            for f in activation_functions:\n",
    "                h = [0]*len(hidden)\n",
    "                for i in range(len(hidden)):\n",
    "                    h[i] = (hidden[i], f)\n",
    "\n",
    "            parameters.append((h, e, o))\n",
    "                                \n",
    "\n",
    "print(len(parameters))\n",
    "# parameters"
   ]
  },
  {
   "cell_type": "code",
   "execution_count": null,
   "metadata": {},
   "outputs": [],
   "source": [
    "kf = KFold(n_splits = 5, random_state = 0)\n",
    "    \n",
    "evaluations = []\n",
    "\n",
    "iteration = 0\n",
    "for hidden_layers, number_of_epochs, optimizer in parameters:\n",
    "    evaluation = {\n",
    "        'params': {'hidden_layers':hidden_layers, 'epochs': number_of_epochs, 'optimizer': optimizer},\n",
    "        'fit_times': [0]*5,\n",
    "        'train_scores': [0]*5,\n",
    "        'test_scores': [0]*5,\n",
    "        'mean_fit_time': 0,\n",
    "        'std_fit_time': 0,\n",
    "        'mean_train_scores': 0,\n",
    "        'std_train_scores': 0,\n",
    "        'mean_test_scores': 0,\n",
    "        'std_test_scores': 0\n",
    "    }\n",
    "\n",
    "    fold = 0\n",
    "    for train_index, test_index in kf.split(all_data_X):\n",
    "        iteration = iteration + 1\n",
    "        clear_output()\n",
    "        print(iteration, \"of\", 5*len(parameters), 'Iterations')\n",
    "        print(\"Parameters: \", (hidden_layers, number_of_epochs, optimizer), 'Fold:', fold+1)            \n",
    "\n",
    "        X_train, X_test = all_data_X.loc[train_index], all_data_X.loc[test_index]\n",
    "        y_train, y_test = all_data_y.loc[train_index], all_data_y.loc[test_index]\n",
    "\n",
    "        model = tf.keras.models.Sequential() # Declare the model type\n",
    "\n",
    "        model.add(tf.keras.layers.Dense(19, input_shape = (19,), activation = tf.nn.relu)) # Declare what(if any) to do in the input layer\n",
    "\n",
    "        # Hidden Layers\n",
    "        for layer in hidden_layers:\n",
    "            model.add(tf.keras.layers.Dense(layer[0], activation = layer[1]))\n",
    "\n",
    "        model.add(tf.keras.layers.Dense(1,)) # Output Layer layer\n",
    "\n",
    "        model.compile(optimizer = optimizer,\n",
    "                      loss = 'mse'\n",
    "#                           metrics = ['mse', 'accuracy']\n",
    "                     )\n",
    "        fit_timer_start = time.time()\n",
    "\n",
    "        model.fit(X_train, y_train, epochs = number_of_epochs)\n",
    "\n",
    "        fit_timer_end = time.time()\n",
    "        hours, rem = divmod(fit_timer_end - fit_timer_start, 3600)\n",
    "        minutes, seconds = divmod(rem, 60)\n",
    "\n",
    "        print(\"Time Taken: {:0>2}:{:0>2}:{:05.3f}\".format(int(hours),int(minutes),seconds))\n",
    "#             print(evaluation['fit_times'])\n",
    "        evaluation['fit_times'][fold] = (fit_timer_end - fit_timer_start)\n",
    "\n",
    "        predictions = model.predict([X_train])\n",
    "        most_probable_values = [np.argmax(prediction) for prediction in predictions]\n",
    "        evaluation['train_scores'][fold] = mean_squared_error(y_train, most_probable_values)\n",
    "\n",
    "        predictions = model.predict([X_test])\n",
    "        most_probable_values = [np.argmax(prediction) for prediction in predictions]\n",
    "        evaluation['test_scores'][fold] = mean_squared_error(y_test, most_probable_values)\n",
    "\n",
    "        total_end = time.time()\n",
    "        hours, rem = divmod(total_end - fit_timer_start, 3600)\n",
    "        minutes, seconds = divmod(rem, 60)\n",
    "\n",
    "        print(\"Total Time Taken: {:0>2}:{:0>2}:{:05.3f}\".format(int(hours),int(minutes),seconds))\n",
    "\n",
    "        fold = fold + 1\n",
    "    \n",
    "    evaluation['mean_fit_time'] = np.mean(np.array(evaluation['fit_times']))\n",
    "    evaluation['std_fit_time'] = np.std(np.array(evaluation['fit_times']))\n",
    "\n",
    "    evaluation['mean_train_scores'] = np.mean(np.array(evaluation['train_scores']))\n",
    "    evaluation['std_train_scores'] = np.std(np.array(evaluation['train_scores']))\n",
    "\n",
    "    evaluation['mean_test_scores'] = np.mean(np.array(evaluation['test_scores']))\n",
    "    evaluation['std_test_scores'] = np.std(np.array(evaluation['test_scores']))\n",
    "    \n",
    "    evaluations.append(evaluation)\n",
    "\n",
    "#     return fold_count"
   ]
  },
  {
   "cell_type": "code",
   "execution_count": null,
   "metadata": {},
   "outputs": [],
   "source": [
    "mean_test_scores = [evl['mean_test_scores'] for evl in evaluations]\n",
    "print(mean_test_scores)\n",
    "print(min(mean_test_scores))"
   ]
  },
  {
   "cell_type": "code",
   "execution_count": null,
   "metadata": {},
   "outputs": [],
   "source": [
    "pd.DataFrame(evaluations)[['params','mean_fit_time', 'std_fit_time', 'mean_train_scores', 'std_train_scores', 'mean_test_scores', 'std_test_scores']].T"
   ]
  },
  {
   "cell_type": "code",
   "execution_count": null,
   "metadata": {},
   "outputs": [],
   "source": []
  }
 ],
 "metadata": {
  "kernelspec": {
   "display_name": "Python 3",
   "language": "python",
   "name": "python3"
  },
  "language_info": {
   "codemirror_mode": {
    "name": "ipython",
    "version": 3
   },
   "file_extension": ".py",
   "mimetype": "text/x-python",
   "name": "python",
   "nbconvert_exporter": "python",
   "pygments_lexer": "ipython3",
   "version": "3.6.8"
  }
 },
 "nbformat": 4,
 "nbformat_minor": 2
}
