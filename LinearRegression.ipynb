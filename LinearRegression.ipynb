{
 "cells": [
  {
   "cell_type": "code",
   "execution_count": 30,
   "metadata": {},
   "outputs": [],
   "source": [
    "import datetime, time\n",
    "\n",
    "import numpy as np\n",
    "import pandas as pd\n",
    "import matplotlib as mpl\n",
    "import matplotlib.pyplot as plt\n",
    "\n",
    "from sklearn.linear_model import LinearRegression\n",
    "from sklearn.metrics import mean_squared_error\n",
    "\n",
    "from sklearn.model_selection import GridSearchCV\n",
    "\n",
    "from IPython.display import clear_output, display, HTML"
   ]
  },
  {
   "cell_type": "code",
   "execution_count": 31,
   "metadata": {},
   "outputs": [],
   "source": [
    "# Ignore warning\n",
    "import warnings\n",
    "warnings.filterwarnings('ignore')"
   ]
  },
  {
   "cell_type": "code",
   "execution_count": 32,
   "metadata": {},
   "outputs": [],
   "source": [
    "pd.set_option('display.max_columns', None)  # or 1000\n",
    "pd.set_option('display.max_rows', None)  # or 1000\n",
    "pd.set_option('display.max_colwidth', -1)  # or 199"
   ]
  },
  {
   "cell_type": "code",
   "execution_count": 33,
   "metadata": {},
   "outputs": [],
   "source": [
    "train = pd.read_csv(\"train_preprocessed.csv\")\n",
    "test = pd.read_csv(\"test_preprocessed.csv\")\n",
    "all_data = pd.read_csv(\"all_data_preprocessed.csv\")"
   ]
  },
  {
   "cell_type": "code",
   "execution_count": 34,
   "metadata": {},
   "outputs": [],
   "source": [
    "train_X = train.loc[:, train.columns != 'totals_totalTransactionRevenue']\n",
    "train_y = train['totals_totalTransactionRevenue']"
   ]
  },
  {
   "cell_type": "code",
   "execution_count": 35,
   "metadata": {},
   "outputs": [],
   "source": [
    "test_X = test.loc[:, test.columns != 'totals_totalTransactionRevenue']\n",
    "test_y = test['totals_totalTransactionRevenue']"
   ]
  },
  {
   "cell_type": "code",
   "execution_count": 36,
   "metadata": {},
   "outputs": [],
   "source": [
    "all_data_X = all_data.loc[:, all_data.columns != 'totals_totalTransactionRevenue']\n",
    "all_data_y = all_data['totals_totalTransactionRevenue']"
   ]
  },
  {
   "cell_type": "code",
   "execution_count": 37,
   "metadata": {},
   "outputs": [
    {
     "name": "stdout",
     "output_type": "stream",
     "text": [
      "fit_intercept \t-  [True, False]\n",
      "normalize \t-  [True, False]\n"
     ]
    }
   ],
   "source": [
    "parameters = {\n",
    "    'fit_intercept': [True, False],\n",
    "    'normalize': [True, False]\n",
    "}\n",
    "\n",
    "for key, values in parameters.items():\n",
    "    print(key,\"\\t- \", values)"
   ]
  },
  {
   "cell_type": "code",
   "execution_count": 38,
   "metadata": {},
   "outputs": [
    {
     "name": "stdout",
     "output_type": "stream",
     "text": [
      "Time Taken: 00:00:37.291\n"
     ]
    }
   ],
   "source": [
    "start = time.time()\n",
    "\n",
    "gridSearchResult = GridSearchCV(LinearRegression(),\n",
    "                                parameters, \n",
    "                                cv = 5, \n",
    "                                scoring='neg_mean_squared_error', \n",
    "                                verbose=5\n",
    "                               ).fit(all_data_X, all_data_y)\n",
    "\n",
    "clear_output()\n",
    "\n",
    "end = time.time()\n",
    "hours, rem = divmod(end-start, 3600)\n",
    "minutes, seconds = divmod(rem, 60)\n",
    "print(\"Time Taken: {:0>2}:{:0>2}:{:05.3f}\".format(int(hours),int(minutes),seconds))"
   ]
  },
  {
   "cell_type": "code",
   "execution_count": 39,
   "metadata": {},
   "outputs": [
    {
     "data": {
      "text/html": [
       "<div>\n",
       "<style scoped>\n",
       "    .dataframe tbody tr th:only-of-type {\n",
       "        vertical-align: middle;\n",
       "    }\n",
       "\n",
       "    .dataframe tbody tr th {\n",
       "        vertical-align: top;\n",
       "    }\n",
       "\n",
       "    .dataframe thead th {\n",
       "        text-align: right;\n",
       "    }\n",
       "</style>\n",
       "<table border=\"1\" class=\"dataframe\">\n",
       "  <thead>\n",
       "    <tr style=\"text-align: right;\">\n",
       "      <th></th>\n",
       "      <th>0</th>\n",
       "      <th>1</th>\n",
       "      <th>2</th>\n",
       "      <th>3</th>\n",
       "    </tr>\n",
       "  </thead>\n",
       "  <tbody>\n",
       "    <tr>\n",
       "      <th>mean_fit_time</th>\n",
       "      <td>2.07601</td>\n",
       "      <td>1.1948</td>\n",
       "      <td>1.0702</td>\n",
       "      <td>1.0534</td>\n",
       "    </tr>\n",
       "    <tr>\n",
       "      <th>std_fit_time</th>\n",
       "      <td>1.19563</td>\n",
       "      <td>0.136029</td>\n",
       "      <td>0.0668776</td>\n",
       "      <td>0.0598986</td>\n",
       "    </tr>\n",
       "    <tr>\n",
       "      <th>mean_score_time</th>\n",
       "      <td>0.0899992</td>\n",
       "      <td>0.0650018</td>\n",
       "      <td>0.0645999</td>\n",
       "      <td>0.0752003</td>\n",
       "    </tr>\n",
       "    <tr>\n",
       "      <th>std_score_time</th>\n",
       "      <td>0.041618</td>\n",
       "      <td>0.00952828</td>\n",
       "      <td>0.00976919</td>\n",
       "      <td>0.012319</td>\n",
       "    </tr>\n",
       "    <tr>\n",
       "      <th>param_fit_intercept</th>\n",
       "      <td>True</td>\n",
       "      <td>True</td>\n",
       "      <td>False</td>\n",
       "      <td>False</td>\n",
       "    </tr>\n",
       "    <tr>\n",
       "      <th>param_normalize</th>\n",
       "      <td>True</td>\n",
       "      <td>False</td>\n",
       "      <td>True</td>\n",
       "      <td>False</td>\n",
       "    </tr>\n",
       "    <tr>\n",
       "      <th>params</th>\n",
       "      <td>{'fit_intercept': True, 'normalize': True}</td>\n",
       "      <td>{'fit_intercept': True, 'normalize': False}</td>\n",
       "      <td>{'fit_intercept': False, 'normalize': True}</td>\n",
       "      <td>{'fit_intercept': False, 'normalize': False}</td>\n",
       "    </tr>\n",
       "    <tr>\n",
       "      <th>split0_test_score</th>\n",
       "      <td>-1.78653e+14</td>\n",
       "      <td>-1.78653e+14</td>\n",
       "      <td>-1.78665e+14</td>\n",
       "      <td>-1.78665e+14</td>\n",
       "    </tr>\n",
       "    <tr>\n",
       "      <th>split1_test_score</th>\n",
       "      <td>-9.84718e+14</td>\n",
       "      <td>-9.84718e+14</td>\n",
       "      <td>-9.84759e+14</td>\n",
       "      <td>-9.84759e+14</td>\n",
       "    </tr>\n",
       "    <tr>\n",
       "      <th>split2_test_score</th>\n",
       "      <td>-6.32943e+14</td>\n",
       "      <td>-6.32943e+14</td>\n",
       "      <td>-6.33003e+14</td>\n",
       "      <td>-6.33003e+14</td>\n",
       "    </tr>\n",
       "    <tr>\n",
       "      <th>split3_test_score</th>\n",
       "      <td>-2.68196e+15</td>\n",
       "      <td>-2.68196e+15</td>\n",
       "      <td>-2.68199e+15</td>\n",
       "      <td>-2.68199e+15</td>\n",
       "    </tr>\n",
       "    <tr>\n",
       "      <th>split4_test_score</th>\n",
       "      <td>-5.97869e+14</td>\n",
       "      <td>-5.97869e+14</td>\n",
       "      <td>-5.97869e+14</td>\n",
       "      <td>-5.97869e+14</td>\n",
       "    </tr>\n",
       "    <tr>\n",
       "      <th>mean_test_score</th>\n",
       "      <td>-1.01523e+15</td>\n",
       "      <td>-1.01523e+15</td>\n",
       "      <td>-1.01526e+15</td>\n",
       "      <td>-1.01526e+15</td>\n",
       "    </tr>\n",
       "    <tr>\n",
       "      <th>std_test_score</th>\n",
       "      <td>8.71677e+14</td>\n",
       "      <td>8.71677e+14</td>\n",
       "      <td>8.7168e+14</td>\n",
       "      <td>8.7168e+14</td>\n",
       "    </tr>\n",
       "    <tr>\n",
       "      <th>rank_test_score</th>\n",
       "      <td>2</td>\n",
       "      <td>1</td>\n",
       "      <td>3</td>\n",
       "      <td>3</td>\n",
       "    </tr>\n",
       "    <tr>\n",
       "      <th>split0_train_score</th>\n",
       "      <td>-1.1424e+15</td>\n",
       "      <td>-1.1424e+15</td>\n",
       "      <td>-1.14242e+15</td>\n",
       "      <td>-1.14242e+15</td>\n",
       "    </tr>\n",
       "    <tr>\n",
       "      <th>split1_train_score</th>\n",
       "      <td>-9.46377e+14</td>\n",
       "      <td>-9.46377e+14</td>\n",
       "      <td>-9.46397e+14</td>\n",
       "      <td>-9.46397e+14</td>\n",
       "    </tr>\n",
       "    <tr>\n",
       "      <th>split2_train_score</th>\n",
       "      <td>-1.03039e+15</td>\n",
       "      <td>-1.03039e+15</td>\n",
       "      <td>-1.03041e+15</td>\n",
       "      <td>-1.03041e+15</td>\n",
       "    </tr>\n",
       "    <tr>\n",
       "      <th>split3_train_score</th>\n",
       "      <td>-5.32383e+14</td>\n",
       "      <td>-5.32383e+14</td>\n",
       "      <td>-5.32405e+14</td>\n",
       "      <td>-5.32405e+14</td>\n",
       "    </tr>\n",
       "    <tr>\n",
       "      <th>split4_train_score</th>\n",
       "      <td>-1.05793e+15</td>\n",
       "      <td>-1.05793e+15</td>\n",
       "      <td>-1.05796e+15</td>\n",
       "      <td>-1.05796e+15</td>\n",
       "    </tr>\n",
       "    <tr>\n",
       "      <th>mean_train_score</th>\n",
       "      <td>-9.41896e+14</td>\n",
       "      <td>-9.41896e+14</td>\n",
       "      <td>-9.41919e+14</td>\n",
       "      <td>-9.41919e+14</td>\n",
       "    </tr>\n",
       "    <tr>\n",
       "      <th>std_train_score</th>\n",
       "      <td>2.14111e+14</td>\n",
       "      <td>2.14111e+14</td>\n",
       "      <td>2.14112e+14</td>\n",
       "      <td>2.14112e+14</td>\n",
       "    </tr>\n",
       "  </tbody>\n",
       "</table>\n",
       "</div>"
      ],
      "text/plain": [
       "                                                              0  \\\n",
       "mean_fit_time        2.07601                                      \n",
       "std_fit_time         1.19563                                      \n",
       "mean_score_time      0.0899992                                    \n",
       "std_score_time       0.041618                                     \n",
       "param_fit_intercept  True                                         \n",
       "param_normalize      True                                         \n",
       "params               {'fit_intercept': True, 'normalize': True}   \n",
       "split0_test_score   -1.78653e+14                                  \n",
       "split1_test_score   -9.84718e+14                                  \n",
       "split2_test_score   -6.32943e+14                                  \n",
       "split3_test_score   -2.68196e+15                                  \n",
       "split4_test_score   -5.97869e+14                                  \n",
       "mean_test_score     -1.01523e+15                                  \n",
       "std_test_score       8.71677e+14                                  \n",
       "rank_test_score      2                                            \n",
       "split0_train_score  -1.1424e+15                                   \n",
       "split1_train_score  -9.46377e+14                                  \n",
       "split2_train_score  -1.03039e+15                                  \n",
       "split3_train_score  -5.32383e+14                                  \n",
       "split4_train_score  -1.05793e+15                                  \n",
       "mean_train_score    -9.41896e+14                                  \n",
       "std_train_score      2.14111e+14                                  \n",
       "\n",
       "                                                               1  \\\n",
       "mean_fit_time        1.1948                                        \n",
       "std_fit_time         0.136029                                      \n",
       "mean_score_time      0.0650018                                     \n",
       "std_score_time       0.00952828                                    \n",
       "param_fit_intercept  True                                          \n",
       "param_normalize      False                                         \n",
       "params               {'fit_intercept': True, 'normalize': False}   \n",
       "split0_test_score   -1.78653e+14                                   \n",
       "split1_test_score   -9.84718e+14                                   \n",
       "split2_test_score   -6.32943e+14                                   \n",
       "split3_test_score   -2.68196e+15                                   \n",
       "split4_test_score   -5.97869e+14                                   \n",
       "mean_test_score     -1.01523e+15                                   \n",
       "std_test_score       8.71677e+14                                   \n",
       "rank_test_score      1                                             \n",
       "split0_train_score  -1.1424e+15                                    \n",
       "split1_train_score  -9.46377e+14                                   \n",
       "split2_train_score  -1.03039e+15                                   \n",
       "split3_train_score  -5.32383e+14                                   \n",
       "split4_train_score  -1.05793e+15                                   \n",
       "mean_train_score    -9.41896e+14                                   \n",
       "std_train_score      2.14111e+14                                   \n",
       "\n",
       "                                                               2  \\\n",
       "mean_fit_time        1.0702                                        \n",
       "std_fit_time         0.0668776                                     \n",
       "mean_score_time      0.0645999                                     \n",
       "std_score_time       0.00976919                                    \n",
       "param_fit_intercept  False                                         \n",
       "param_normalize      True                                          \n",
       "params               {'fit_intercept': False, 'normalize': True}   \n",
       "split0_test_score   -1.78665e+14                                   \n",
       "split1_test_score   -9.84759e+14                                   \n",
       "split2_test_score   -6.33003e+14                                   \n",
       "split3_test_score   -2.68199e+15                                   \n",
       "split4_test_score   -5.97869e+14                                   \n",
       "mean_test_score     -1.01526e+15                                   \n",
       "std_test_score       8.7168e+14                                    \n",
       "rank_test_score      3                                             \n",
       "split0_train_score  -1.14242e+15                                   \n",
       "split1_train_score  -9.46397e+14                                   \n",
       "split2_train_score  -1.03041e+15                                   \n",
       "split3_train_score  -5.32405e+14                                   \n",
       "split4_train_score  -1.05796e+15                                   \n",
       "mean_train_score    -9.41919e+14                                   \n",
       "std_train_score      2.14112e+14                                   \n",
       "\n",
       "                                                                3  \n",
       "mean_fit_time        1.0534                                        \n",
       "std_fit_time         0.0598986                                     \n",
       "mean_score_time      0.0752003                                     \n",
       "std_score_time       0.012319                                      \n",
       "param_fit_intercept  False                                         \n",
       "param_normalize      False                                         \n",
       "params               {'fit_intercept': False, 'normalize': False}  \n",
       "split0_test_score   -1.78665e+14                                   \n",
       "split1_test_score   -9.84759e+14                                   \n",
       "split2_test_score   -6.33003e+14                                   \n",
       "split3_test_score   -2.68199e+15                                   \n",
       "split4_test_score   -5.97869e+14                                   \n",
       "mean_test_score     -1.01526e+15                                   \n",
       "std_test_score       8.7168e+14                                    \n",
       "rank_test_score      3                                             \n",
       "split0_train_score  -1.14242e+15                                   \n",
       "split1_train_score  -9.46397e+14                                   \n",
       "split2_train_score  -1.03041e+15                                   \n",
       "split3_train_score  -5.32405e+14                                   \n",
       "split4_train_score  -1.05796e+15                                   \n",
       "mean_train_score    -9.41919e+14                                   \n",
       "std_train_score      2.14112e+14                                   "
      ]
     },
     "execution_count": 39,
     "metadata": {},
     "output_type": "execute_result"
    }
   ],
   "source": [
    "# Show all results\n",
    "results_df = pd.DataFrame.from_dict(gridSearchResult.cv_results_)\n",
    "results_df.T"
   ]
  },
  {
   "cell_type": "code",
   "execution_count": 40,
   "metadata": {},
   "outputs": [
    {
     "data": {
      "text/html": [
       "<div>\n",
       "<style scoped>\n",
       "    .dataframe tbody tr th:only-of-type {\n",
       "        vertical-align: middle;\n",
       "    }\n",
       "\n",
       "    .dataframe tbody tr th {\n",
       "        vertical-align: top;\n",
       "    }\n",
       "\n",
       "    .dataframe thead th {\n",
       "        text-align: right;\n",
       "    }\n",
       "</style>\n",
       "<table border=\"1\" class=\"dataframe\">\n",
       "  <thead>\n",
       "    <tr style=\"text-align: right;\">\n",
       "      <th></th>\n",
       "      <th>1</th>\n",
       "    </tr>\n",
       "  </thead>\n",
       "  <tbody>\n",
       "    <tr>\n",
       "      <th>fit_intercept</th>\n",
       "      <td>True</td>\n",
       "    </tr>\n",
       "    <tr>\n",
       "      <th>normalize</th>\n",
       "      <td>False</td>\n",
       "    </tr>\n",
       "    <tr>\n",
       "      <th>mean_fit_time</th>\n",
       "      <td>1.1948</td>\n",
       "    </tr>\n",
       "    <tr>\n",
       "      <th>std_fit_time</th>\n",
       "      <td>0.136029</td>\n",
       "    </tr>\n",
       "    <tr>\n",
       "      <th>mean_train_score</th>\n",
       "      <td>-9.41896e+14</td>\n",
       "    </tr>\n",
       "    <tr>\n",
       "      <th>std_train_score</th>\n",
       "      <td>2.14111e+14</td>\n",
       "    </tr>\n",
       "    <tr>\n",
       "      <th>mean_test_score</th>\n",
       "      <td>-1.01523e+15</td>\n",
       "    </tr>\n",
       "    <tr>\n",
       "      <th>std_test_score</th>\n",
       "      <td>8.71677e+14</td>\n",
       "    </tr>\n",
       "  </tbody>\n",
       "</table>\n",
       "</div>"
      ],
      "text/plain": [
       "                            1\n",
       "fit_intercept     True       \n",
       "normalize         False      \n",
       "mean_fit_time     1.1948     \n",
       "std_fit_time      0.136029   \n",
       "mean_train_score -9.41896e+14\n",
       "std_train_score   2.14111e+14\n",
       "mean_test_score  -1.01523e+15\n",
       "std_test_score    8.71677e+14"
      ]
     },
     "execution_count": 40,
     "metadata": {},
     "output_type": "execute_result"
    }
   ],
   "source": [
    "# Results with rank 1\n",
    "rank_one = results_df[results_df['rank_test_score'] == 1][['params', 'mean_fit_time', 'std_fit_time', 'mean_train_score', 'std_train_score', 'mean_test_score', 'std_test_score']]\n",
    "rank_one = pd.concat([rank_one['params'].apply(pd.Series), rank_one], axis = 1, sort=True).drop(columns = 'params')\n",
    "rank_one.T"
   ]
  },
  {
   "cell_type": "code",
   "execution_count": 41,
   "metadata": {},
   "outputs": [
    {
     "data": {
      "text/plain": [
       "LinearRegression(copy_X=True, fit_intercept=True, n_jobs=None,\n",
       "         normalize=False)"
      ]
     },
     "execution_count": 41,
     "metadata": {},
     "output_type": "execute_result"
    }
   ],
   "source": [
    "gridSearchResult.best_estimator_"
   ]
  },
  {
   "cell_type": "code",
   "execution_count": 46,
   "metadata": {},
   "outputs": [],
   "source": [
    "start = time.time()\n",
    "\n",
    "LR = gridSearchResult.best_estimator_.fit(train_X, train_y)\n",
    "\n",
    "end = time.time()\n",
    "hours, rem = divmod(end-start, 3600)\n",
    "minutes, seconds = divmod(rem, 60)\n",
    "time_taken = \"{:0>2}:{:0>2}:{:05.3f}\".format(int(hours),int(minutes),seconds)"
   ]
  },
  {
   "cell_type": "code",
   "execution_count": 47,
   "metadata": {},
   "outputs": [],
   "source": [
    "predictions = pd.Series(LR.predict(test_X))"
   ]
  },
  {
   "cell_type": "code",
   "execution_count": 48,
   "metadata": {},
   "outputs": [
    {
     "name": "stdout",
     "output_type": "stream",
     "text": [
      "Mean Squared Error: 23852897.244986977\n",
      "Time Taken to Fit: 00:00:1.075\n"
     ]
    }
   ],
   "source": [
    "print(\"Mean Squared Error:\", mean_squared_error(test_y, predictions)**0.5)\n",
    "print(\"Time Taken to Fit:\", time_taken)"
   ]
  },
  {
   "cell_type": "code",
   "execution_count": 49,
   "metadata": {},
   "outputs": [
    {
     "data": {
      "image/png": "[encoded data removed]",
      "text/plain": [
       "<Figure size 2160x576 with 1 Axes>"
      ]
     },
     "metadata": {
      "needs_background": "light"
     },
     "output_type": "display_data"
    }
   ],
   "source": [
    "fig = plt.figure(figsize=(30,8))\n",
    "ax = plt.axes()\n",
    "\n",
    "ax.plot(predictions.index, predictions, color = 'blue', label='Prediction')\n",
    "ax.scatter(test_y.index, test_y, color = 'red', label='Real Value')\n",
    "\n",
    "ax.legend(loc='best')\n",
    "plt.show()"
   ]
  },
  {
   "cell_type": "code",
   "execution_count": null,
   "metadata": {},
   "outputs": [],
   "source": []
  }
 ],
 "metadata": {
  "kernelspec": {
   "display_name": "Python 3",
   "language": "python",
   "name": "python3"
  },
  "language_info": {
   "codemirror_mode": {
    "name": "ipython",
    "version": 3
   },
   "file_extension": ".py",
   "mimetype": "text/x-python",
   "name": "python",
   "nbconvert_exporter": "python",
   "pygments_lexer": "ipython3",
   "version": "3.6.8"
  }
 },
 "nbformat": 4,
 "nbformat_minor": 2
}
