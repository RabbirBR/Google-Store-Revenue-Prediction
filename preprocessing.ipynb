{
 "cells": [
  {
   "cell_type": "code",
   "execution_count": 1,
   "metadata": {},
   "outputs": [],
   "source": [
    "import datetime, time\n",
    "start_notebook = time.time()\n",
    "\n",
    "import numpy as np\n",
    "import pandas as pd\n",
    "import json\n",
    "from pandas.io.json import json_normalize\n",
    "\n",
    "from sklearn.preprocessing import LabelEncoder\n",
    "\n",
    "from IPython.display import clear_output, display, HTML"
   ]
  },
  {
   "cell_type": "code",
   "execution_count": 2,
   "metadata": {},
   "outputs": [],
   "source": [
    "train_chunks = pd.read_csv(\"train_v2.csv\", chunksize = 20000)\n",
    "test_chunks = pd.read_csv(\"test_v2.csv\", chunksize = 20000)"
   ]
  },
  {
   "cell_type": "code",
   "execution_count": 3,
   "metadata": {},
   "outputs": [],
   "source": [
    "def flatten_json_chunk_by_chunk(data_chunks):\n",
    "    dataset = pd.DataFrame()\n",
    "    \n",
    "    nan_values = [\"not available in demo dataset\", \"unknown.unknown\", \"nan\", \"(none)\", \"(not set)\", \"(not provided)\", \"/\", \"\", \"None\", None]\n",
    "    json_columns = ['device', 'geoNetwork', 'totals', 'trafficSource']\n",
    "    \n",
    "    temp = 0\n",
    "    count = 0\n",
    "    for chunk in data_chunks:\n",
    "        start = time.time()\n",
    "        \n",
    "        chunk.drop(columns = ['customDimensions', 'hits', 'visitId'], inplace=True)\n",
    "        \n",
    "        if (temp % 500000) == 0:\n",
    "            clear_output()\n",
    "        \n",
    "        print(\"Processing from\", temp, end = '-')\n",
    "        \n",
    "        temp = temp + chunk.shape[0]\n",
    "        \n",
    "        print(temp, end = ' - ')\n",
    "        \n",
    "        for col in json_columns:\n",
    "            json_to_df = chunk[col].map(json.loads).apply(pd.Series).add_prefix(col+\"_\")\n",
    "            \n",
    "            if col == \"trafficSource\":\n",
    "                temp_json = json_to_df['trafficSource_adwordsClickInfo'].apply(pd.Series).add_prefix(\"trafficSource_trafficSource_adwordsClickInfo_\")\n",
    "                temp_json_2 = temp_json['trafficSource_trafficSource_adwordsClickInfo_targetingCriteria'].apply(pd.Series).add_prefix(\"trafficSource_trafficSource_adwordsClickInfo_targetingCriteria_\")\n",
    "                \n",
    "                json_to_df = pd.concat([json_to_df, temp_json, temp_json_2], axis=1).drop(columns = ['trafficSource_adwordsClickInfo', 'trafficSource_trafficSource_adwordsClickInfo_targetingCriteria'])\n",
    "                \n",
    "            chunk = pd.concat([chunk, json_to_df], axis=1)\n",
    "                \n",
    "            print(col, end = ', ')\n",
    "        \n",
    "        chunk.drop(columns = json_columns, inplace=True)\n",
    "        \n",
    "        dataset = pd.concat([dataset, chunk], sort=True).replace(nan_values, np.nan)#.dropna(axis=1, how='all')\n",
    "                \n",
    "        count = count + 1\n",
    "    \n",
    "        end = time.time()\n",
    "        hours, rem = divmod(end-start, 3600)\n",
    "        minutes, seconds = divmod(rem, 60)\n",
    "        print(\"Total Time taken: {:0>2}:{:0>2}:{:05.3f}\".format(int(hours),int(minutes),seconds))\n",
    "    \n",
    "    if 'trafficSource_campaignCode' in dataset.columns:\n",
    "        dataset.drop(columns = ['trafficSource_campaignCode'], inplace=True)\n",
    "    \n",
    "    clear_output()\n",
    "    print(\"Total rows:\", temp)\n",
    "    return dataset, count"
   ]
  },
  {
   "cell_type": "code",
   "execution_count": 4,
   "metadata": {},
   "outputs": [],
   "source": [
    "# train_chunks = pd.read_csv(\"test_chunk.csv\", chunksize = 2500) # Only for testing the algorithm. Delete for final processing.\n",
    "# start = time.time()\n",
    "\n",
    "# train, count = flatten_json_chunk_by_chunk(train_chunks)\n",
    "\n",
    "# end = time.time()\n",
    "# hours, rem = divmod(end-start, 3600)\n",
    "# minutes, seconds = divmod(rem, 60)\n",
    "# print(\"\\nTotal Time taken: {:0>2}:{:0>2}:{:05.3f}\".format(int(hours),int(minutes),seconds))\n",
    "\n",
    "# hours, rem = divmod((end-start)/count, 3600)\n",
    "# minutes, seconds = divmod(rem, 60)\n",
    "# print(\"Average Time per operation: {:0>2}:{:0>2}:{:05.3f}\".format(int(hours),int(minutes),seconds))"
   ]
  },
  {
   "cell_type": "code",
   "execution_count": 5,
   "metadata": {},
   "outputs": [],
   "source": [
    "# test_chunks = pd.read_csv(\"test_chunk.csv\", chunksize = 2500) # Only for testing the algorithm. Delete for final processing.\n",
    "# start = time.time()\n",
    "\n",
    "# test, count = flatten_json_chunk_by_chunk(test_chunks)\n",
    "\n",
    "# end = time.time()\n",
    "# hours, rem = divmod(end-start, 3600)\n",
    "# minutes, seconds = divmod(rem, 60)\n",
    "# print(\"\\nTotal Time taken: {:0>2}:{:0>2}:{:05.3f}\".format(int(hours),int(minutes),seconds))\n",
    "\n",
    "# hours, rem = divmod((end-start)/count, 3600)\n",
    "# minutes, seconds = divmod(rem, 60)\n",
    "# print(\"Average Time per operation: {:0>2}:{:0>2}:{:05.3f}\".format(int(hours),int(minutes),seconds))"
   ]
  },
  {
   "cell_type": "code",
   "execution_count": 6,
   "metadata": {},
   "outputs": [
    {
     "name": "stdout",
     "output_type": "stream",
     "text": [
      "Total rows: 1708337\n",
      "\n",
      "Total Time taken: 01:30:55.796\n",
      "Average Time per operation: 00:01:3.439\n",
      "\n",
      "\n",
      "<class 'pandas.core.frame.DataFrame'>\n",
      "RangeIndex: 1708337 entries, 0 to 1708336\n",
      "Data columns (total 57 columns):\n",
      "channelGrouping                                                     object\n",
      "date                                                                int64\n",
      "device_browser                                                      object\n",
      "device_browserSize                                                  float64\n",
      "device_browserVersion                                               float64\n",
      "device_deviceCategory                                               object\n",
      "device_flashVersion                                                 float64\n",
      "device_isMobile                                                     bool\n",
      "device_language                                                     float64\n",
      "device_mobileDeviceBranding                                         float64\n",
      "device_mobileDeviceInfo                                             float64\n",
      "device_mobileDeviceMarketingName                                    float64\n",
      "device_mobileDeviceModel                                            float64\n",
      "device_mobileInputSelector                                          float64\n",
      "device_operatingSystem                                              object\n",
      "device_operatingSystemVersion                                       float64\n",
      "device_screenColors                                                 float64\n",
      "device_screenResolution                                             float64\n",
      "fullVisitorId                                                       object\n",
      "geoNetwork_city                                                     object\n",
      "geoNetwork_cityId                                                   float64\n",
      "geoNetwork_continent                                                object\n",
      "geoNetwork_country                                                  object\n",
      "geoNetwork_latitude                                                 float64\n",
      "geoNetwork_longitude                                                float64\n",
      "geoNetwork_metro                                                    object\n",
      "geoNetwork_networkDomain                                            object\n",
      "geoNetwork_networkLocation                                          float64\n",
      "geoNetwork_region                                                   object\n",
      "geoNetwork_subContinent                                             object\n",
      "socialEngagementType                                                object\n",
      "totals_bounces                                                      object\n",
      "totals_hits                                                         object\n",
      "totals_newVisits                                                    object\n",
      "totals_pageviews                                                    object\n",
      "totals_sessionQualityDim                                            object\n",
      "totals_timeOnSite                                                   object\n",
      "totals_totalTransactionRevenue                                      object\n",
      "totals_transactionRevenue                                           object\n",
      "totals_transactions                                                 object\n",
      "totals_visits                                                       object\n",
      "trafficSource_adContent                                             object\n",
      "trafficSource_campaign                                              object\n",
      "trafficSource_isTrueDirect                                          object\n",
      "trafficSource_keyword                                               object\n",
      "trafficSource_medium                                                object\n",
      "trafficSource_referralPath                                          object\n",
      "trafficSource_source                                                object\n",
      "trafficSource_trafficSource_adwordsClickInfo_adNetworkType          object\n",
      "trafficSource_trafficSource_adwordsClickInfo_criteriaParameters     float64\n",
      "trafficSource_trafficSource_adwordsClickInfo_gclId                  object\n",
      "trafficSource_trafficSource_adwordsClickInfo_isVideoAd              object\n",
      "trafficSource_trafficSource_adwordsClickInfo_page                   object\n",
      "trafficSource_trafficSource_adwordsClickInfo_slot                   object\n",
      "trafficSource_trafficSource_adwordsClickInfo_targetingCriteria_0    float64\n",
      "visitNumber                                                         int64\n",
      "visitStartTime                                                      int64\n",
      "dtypes: bool(1), float64(18), int64(3), object(35)\n",
      "memory usage: 731.5+ MB\n"
     ]
    }
   ],
   "source": [
    "start = time.time()\n",
    "\n",
    "train, count = flatten_json_chunk_by_chunk(train_chunks)\n",
    "\n",
    "end = time.time()\n",
    "hours, rem = divmod(end-start, 3600)\n",
    "minutes, seconds = divmod(rem, 60)\n",
    "print(\"\\nTotal Time taken: {:0>2}:{:0>2}:{:05.3f}\".format(int(hours),int(minutes),seconds))\n",
    "\n",
    "hours, rem = divmod((end-start)/count, 3600)\n",
    "minutes, seconds = divmod(rem, 60)\n",
    "print(\"Average Time per operation: {:0>2}:{:0>2}:{:05.3f}\".format(int(hours),int(minutes),seconds))\n",
    "\n",
    "print(\"\\n\")\n",
    "train.info()"
   ]
  },
  {
   "cell_type": "code",
   "execution_count": 7,
   "metadata": {},
   "outputs": [
    {
     "name": "stdout",
     "output_type": "stream",
     "text": [
      "Total rows: 401589\n",
      "\n",
      "Total Time taken: 00:16:36.187\n",
      "Average Time per operation: 00:00:47.437\n",
      "\n",
      "\n",
      "<class 'pandas.core.frame.DataFrame'>\n",
      "RangeIndex: 401589 entries, 0 to 401588\n",
      "Data columns (total 57 columns):\n",
      "channelGrouping                                                     401589 non-null object\n",
      "date                                                                401589 non-null int64\n",
      "device_browser                                                      401589 non-null object\n",
      "device_browserSize                                                  0 non-null float64\n",
      "device_browserVersion                                               0 non-null float64\n",
      "device_deviceCategory                                               401589 non-null object\n",
      "device_flashVersion                                                 0 non-null float64\n",
      "device_isMobile                                                     401589 non-null bool\n",
      "device_language                                                     0 non-null float64\n",
      "device_mobileDeviceBranding                                         0 non-null float64\n",
      "device_mobileDeviceInfo                                             0 non-null float64\n",
      "device_mobileDeviceMarketingName                                    0 non-null float64\n",
      "device_mobileDeviceModel                                            0 non-null float64\n",
      "device_mobileInputSelector                                          0 non-null float64\n",
      "device_operatingSystem                                              397207 non-null object\n",
      "device_operatingSystemVersion                                       0 non-null float64\n",
      "device_screenColors                                                 0 non-null float64\n",
      "device_screenResolution                                             0 non-null float64\n",
      "fullVisitorId                                                       401589 non-null object\n",
      "geoNetwork_city                                                     176496 non-null object\n",
      "geoNetwork_cityId                                                   0 non-null float64\n",
      "geoNetwork_continent                                                401207 non-null object\n",
      "geoNetwork_country                                                  401207 non-null object\n",
      "geoNetwork_latitude                                                 0 non-null float64\n",
      "geoNetwork_longitude                                                0 non-null float64\n",
      "geoNetwork_metro                                                    105329 non-null object\n",
      "geoNetwork_networkDomain                                            206662 non-null object\n",
      "geoNetwork_networkLocation                                          0 non-null float64\n",
      "geoNetwork_region                                                   183261 non-null object\n",
      "geoNetwork_subContinent                                             401207 non-null object\n",
      "socialEngagementType                                                401589 non-null object\n",
      "totals_bounces                                                      182678 non-null object\n",
      "totals_hits                                                         401589 non-null object\n",
      "totals_newVisits                                                    286065 non-null object\n",
      "totals_pageviews                                                    401488 non-null object\n",
      "totals_sessionQualityDim                                            401589 non-null object\n",
      "totals_timeOnSite                                                   217903 non-null object\n",
      "totals_totalTransactionRevenue                                      4594 non-null object\n",
      "totals_transactionRevenue                                           4594 non-null object\n",
      "totals_transactions                                                 6305 non-null object\n",
      "totals_visits                                                       401589 non-null object\n",
      "trafficSource_adContent                                             10748 non-null object\n",
      "trafficSource_campaign                                              22656 non-null object\n",
      "trafficSource_isTrueDirect                                          148409 non-null object\n",
      "trafficSource_keyword                                               12059 non-null object\n",
      "trafficSource_medium                                                290276 non-null object\n",
      "trafficSource_referralPath                                          59110 non-null object\n",
      "trafficSource_source                                                401589 non-null object\n",
      "trafficSource_trafficSource_adwordsClickInfo_adNetworkType          10605 non-null object\n",
      "trafficSource_trafficSource_adwordsClickInfo_criteriaParameters     0 non-null float64\n",
      "trafficSource_trafficSource_adwordsClickInfo_gclId                  10612 non-null object\n",
      "trafficSource_trafficSource_adwordsClickInfo_isVideoAd              10605 non-null object\n",
      "trafficSource_trafficSource_adwordsClickInfo_page                   10605 non-null object\n",
      "trafficSource_trafficSource_adwordsClickInfo_slot                   10605 non-null object\n",
      "trafficSource_trafficSource_adwordsClickInfo_targetingCriteria_0    0 non-null float64\n",
      "visitNumber                                                         401589 non-null int64\n",
      "visitStartTime                                                      401589 non-null int64\n",
      "dtypes: bool(1), float64(18), int64(3), object(35)\n",
      "memory usage: 172.0+ MB\n"
     ]
    }
   ],
   "source": [
    "start = time.time()\n",
    "\n",
    "test, count = flatten_json_chunk_by_chunk(test_chunks)\n",
    "\n",
    "end = time.time()\n",
    "hours, rem = divmod(end-start, 3600)\n",
    "minutes, seconds = divmod(rem, 60)\n",
    "print(\"\\nTotal Time taken: {:0>2}:{:0>2}:{:05.3f}\".format(int(hours),int(minutes),seconds))\n",
    "\n",
    "hours, rem = divmod((end-start)/count, 3600)\n",
    "minutes, seconds = divmod(rem, 60)\n",
    "print(\"Average Time per operation: {:0>2}:{:0>2}:{:05.3f}\".format(int(hours),int(minutes),seconds))\n",
    "\n",
    "print(\"\\n\")\n",
    "test.info()"
   ]
  },
  {
   "cell_type": "code",
   "execution_count": 8,
   "metadata": {},
   "outputs": [
    {
     "name": "stdout",
     "output_type": "stream",
     "text": [
      "(1708337, 57) (401589, 57)\n",
      "(2109926, 57)\n"
     ]
    }
   ],
   "source": [
    "print(train.shape, test.shape)\n",
    "all_data = pd.concat([train, test], sort=True)\n",
    "print(all_data.shape)"
   ]
  },
  {
   "cell_type": "code",
   "execution_count": 9,
   "metadata": {},
   "outputs": [],
   "source": [
    "# Changing data types of certain columns\n",
    "all_data['fullVisitorId'] = all_data['fullVisitorId'].astype(str)\n",
    "all_data['device_isMobile'] = all_data['device_isMobile'].astype(str)\n",
    "\n",
    "all_data['totals_hits'] = all_data['totals_hits'].astype('float64')\n",
    "all_data['totals_pageviews'] = all_data['totals_pageviews'].astype('float64')\n",
    "all_data['totals_sessionQualityDim'] = all_data['totals_sessionQualityDim'].astype('float64')\n",
    "\n",
    "all_data['totals_transactionRevenue'] = all_data['totals_transactionRevenue'].astype('float64')\n",
    "all_data['totals_totalTransactionRevenue'] = all_data['totals_totalTransactionRevenue'].astype('float64')\n",
    "\n",
    "train['fullVisitorId'] = train['fullVisitorId'].astype(str)\n",
    "train['device_isMobile'] = train['device_isMobile'].astype(str)\n",
    "\n",
    "train['totals_hits'] = train['totals_hits'].astype('float64')\n",
    "train['totals_pageviews'] = train['totals_pageviews'].astype('float64')\n",
    "train['totals_sessionQualityDim'] = train['totals_sessionQualityDim'].astype('float64')\n",
    "\n",
    "all_data['totals_transactionRevenue'] = all_data['totals_transactionRevenue'].astype('float64')\n",
    "all_data['totals_totalTransactionRevenue'] = all_data['totals_totalTransactionRevenue'].astype('float64')\n",
    "\n",
    "\n",
    "test['fullVisitorId'] = test['fullVisitorId'].astype(str)\n",
    "test['device_isMobile'] = test['device_isMobile'].astype(str)\n",
    "\n",
    "test['totals_hits'] = test['totals_hits'].astype('float64')\n",
    "test['totals_pageviews'] = test['totals_pageviews'].astype('float64')\n",
    "test['totals_sessionQualityDim'] = test['totals_sessionQualityDim'].astype('float64')\n",
    "\n",
    "test['totals_transactionRevenue'] = test['totals_transactionRevenue'].astype('float64')\n",
    "test['totals_totalTransactionRevenue'] = test['totals_totalTransactionRevenue'].astype('float64')\n",
    "\n",
    "# Date to day conversion\n",
    "all_data['date'] =  pd.to_datetime(all_data['date'], format = '%Y%m%d').astype(np.int64)/10**9/86400\n",
    "train['date'] =  pd.to_datetime(train['date'], format = '%Y%m%d').astype(np.int64)/10**9/86400\n",
    "test['date'] =  pd.to_datetime(test['date'], format = '%Y%m%d').astype(np.int64)/10**9/86400"
   ]
  },
  {
   "cell_type": "code",
   "execution_count": 10,
   "metadata": {},
   "outputs": [],
   "source": [
    "# Replace different NaN Values\n",
    "nan_values = [\"not available in demo dataset\", \"unknown.unknown\", \"nan\", \"(none)\", \"(not set)\", \"/\", \"\", \"None\", None]\n",
    "all_data = all_data.replace(nan_values, np.nan)\n",
    "train = train.replace(nan_values, np.nan)\n",
    "test = test.replace(nan_values, np.nan)"
   ]
  },
  {
   "cell_type": "code",
   "execution_count": 11,
   "metadata": {},
   "outputs": [
    {
     "name": "stdout",
     "output_type": "stream",
     "text": [
      "Empty values in 'totals_transactionRevenue' and 'totals_totalTransactionRevenue' columns filled with 0.\n",
      "Dropped all columns with more than 50% missing data and 1 unique value.\n"
     ]
    }
   ],
   "source": [
    "columns_to_drop = [] # List of columns to drop during the preprocessing.\n",
    "\n",
    "all_data['totals_transactionRevenue'] = all_data['totals_transactionRevenue'].fillna(0)\n",
    "all_data['totals_totalTransactionRevenue'] = all_data['totals_totalTransactionRevenue'].fillna(0)\n",
    "\n",
    "train['totals_transactionRevenue'] = train['totals_transactionRevenue'].fillna(0)\n",
    "train['totals_totalTransactionRevenue'] = train['totals_totalTransactionRevenue'].fillna(0)\n",
    "\n",
    "test['totals_transactionRevenue'] = test['totals_transactionRevenue'].fillna(0)\n",
    "test['totals_totalTransactionRevenue'] = test['totals_totalTransactionRevenue'].fillna(0)\n",
    "\n",
    "print(\"Empty values in 'totals_transactionRevenue' and 'totals_totalTransactionRevenue' columns filled with 0.\")\n",
    "\n",
    "columns_to_drop.extend(list(all_data.columns[all_data.isnull().mean() > 0.5]))\n",
    "columns_to_drop.extend(list(all_data.columns[all_data.nunique() == 1]))\n",
    "\n",
    "all_data.drop(columns = columns_to_drop, inplace=True)\n",
    "train.drop(columns = columns_to_drop, inplace=True)\n",
    "test.drop(columns = columns_to_drop, inplace=True)\n",
    "print('Dropped all columns with more than 50% missing data and 1 unique value.')"
   ]
  },
  {
   "cell_type": "code",
   "execution_count": 12,
   "metadata": {},
   "outputs": [],
   "source": [
    "# if the column is numeric replace empty values with the median\n",
    "numeric_cols = all_data.select_dtypes(include=['int64','float64']).columns\n",
    "for col in all_data.loc[:, numeric_cols]:\n",
    "    all_data[col] = all_data[col].fillna(all_data[col].median())\n",
    "\n",
    "# if the column is categorical replace empty values with the mode\n",
    "categorical_cols = all_data.select_dtypes(include=['object']).columns\n",
    "for col in all_data.loc[:, categorical_cols]:\n",
    "    all_data[col] = all_data[col].fillna(all_data[col].mode()[0])"
   ]
  },
  {
   "cell_type": "code",
   "execution_count": 13,
   "metadata": {},
   "outputs": [],
   "source": [
    "# if the column is numeric replace empty values with the median\n",
    "numeric_cols = train.select_dtypes(include=['int64','float64']).columns\n",
    "for col in train.loc[:, numeric_cols]:\n",
    "    train[col] = train[col].fillna(train[col].median())\n",
    "\n",
    "# if the column is categorical replace empty values with the mode\n",
    "categorical_cols = train.select_dtypes(include=['object']).columns\n",
    "for col in train.loc[:, categorical_cols]:\n",
    "    train[col] = train[col].fillna(train[col].mode()[0])"
   ]
  },
  {
   "cell_type": "code",
   "execution_count": 14,
   "metadata": {},
   "outputs": [],
   "source": [
    "# if the column is numeric replace empty values with the median\n",
    "numeric_cols = test.select_dtypes(include=['int64','float64']).columns\n",
    "for col in test.loc[:, numeric_cols]:\n",
    "    test[col] = test[col].fillna(test[col].median())\n",
    "\n",
    "# if the column is categorical replace empty values with the mode\n",
    "categorical_cols = test.select_dtypes(include=['object']).columns\n",
    "for col in test.loc[:, categorical_cols]:\n",
    "    test[col] = test[col].fillna(test[col].mode()[0])"
   ]
  },
  {
   "cell_type": "code",
   "execution_count": 16,
   "metadata": {},
   "outputs": [],
   "source": [
    "# Encode Categorical Columns\n",
    "le = LabelEncoder()\n",
    "\n",
    "for col in categorical_cols:\n",
    "    le.fit(all_data[col])\n",
    "    \n",
    "    all_data[col] = le.transform(all_data[col])\n",
    "    train[col] = le.transform(train[col])\n",
    "    test[col] = le.transform(test[col])"
   ]
  },
  {
   "cell_type": "code",
   "execution_count": 17,
   "metadata": {},
   "outputs": [
    {
     "name": "stdout",
     "output_type": "stream",
     "text": [
      "<class 'pandas.core.frame.DataFrame'>\n",
      "Int64Index: 2109926 entries, 0 to 401588\n",
      "Data columns (total 20 columns):\n",
      "channelGrouping                   int32\n",
      "date                              float64\n",
      "device_browser                    int32\n",
      "device_deviceCategory             int32\n",
      "device_isMobile                   int32\n",
      "device_operatingSystem            int32\n",
      "fullVisitorId                     int32\n",
      "geoNetwork_continent              int32\n",
      "geoNetwork_country                int32\n",
      "geoNetwork_networkDomain          int32\n",
      "geoNetwork_subContinent           int32\n",
      "totals_hits                       float64\n",
      "totals_pageviews                  float64\n",
      "totals_sessionQualityDim          float64\n",
      "totals_totalTransactionRevenue    float64\n",
      "totals_transactionRevenue         float64\n",
      "trafficSource_medium              int32\n",
      "trafficSource_source              int32\n",
      "visitNumber                       int64\n",
      "visitStartTime                    int64\n",
      "dtypes: float64(6), int32(12), int64(2)\n",
      "memory usage: 241.5 MB\n"
     ]
    }
   ],
   "source": [
    "all_data.info()"
   ]
  },
  {
   "cell_type": "code",
   "execution_count": 18,
   "metadata": {},
   "outputs": [
    {
     "name": "stdout",
     "output_type": "stream",
     "text": [
      "<class 'pandas.core.frame.DataFrame'>\n",
      "RangeIndex: 1708337 entries, 0 to 1708336\n",
      "Data columns (total 20 columns):\n",
      "channelGrouping                   int32\n",
      "date                              float64\n",
      "device_browser                    int32\n",
      "device_deviceCategory             int32\n",
      "device_isMobile                   int32\n",
      "device_operatingSystem            int32\n",
      "fullVisitorId                     int32\n",
      "geoNetwork_continent              int32\n",
      "geoNetwork_country                int32\n",
      "geoNetwork_networkDomain          int32\n",
      "geoNetwork_subContinent           int32\n",
      "totals_hits                       float64\n",
      "totals_pageviews                  float64\n",
      "totals_sessionQualityDim          float64\n",
      "totals_totalTransactionRevenue    object\n",
      "totals_transactionRevenue         object\n",
      "trafficSource_medium              int32\n",
      "trafficSource_source              int32\n",
      "visitNumber                       int64\n",
      "visitStartTime                    int64\n",
      "dtypes: float64(4), int32(12), int64(2), object(2)\n",
      "memory usage: 182.5+ MB\n"
     ]
    }
   ],
   "source": [
    "train.info()"
   ]
  },
  {
   "cell_type": "code",
   "execution_count": 19,
   "metadata": {},
   "outputs": [
    {
     "name": "stdout",
     "output_type": "stream",
     "text": [
      "<class 'pandas.core.frame.DataFrame'>\n",
      "RangeIndex: 401589 entries, 0 to 401588\n",
      "Data columns (total 20 columns):\n",
      "channelGrouping                   401589 non-null int32\n",
      "date                              401589 non-null float64\n",
      "device_browser                    401589 non-null int32\n",
      "device_deviceCategory             401589 non-null int32\n",
      "device_isMobile                   401589 non-null int32\n",
      "device_operatingSystem            401589 non-null int32\n",
      "fullVisitorId                     401589 non-null int32\n",
      "geoNetwork_continent              401589 non-null int32\n",
      "geoNetwork_country                401589 non-null int32\n",
      "geoNetwork_networkDomain          401589 non-null int32\n",
      "geoNetwork_subContinent           401589 non-null int32\n",
      "totals_hits                       401589 non-null float64\n",
      "totals_pageviews                  401589 non-null float64\n",
      "totals_sessionQualityDim          401589 non-null float64\n",
      "totals_totalTransactionRevenue    401589 non-null float64\n",
      "totals_transactionRevenue         401589 non-null float64\n",
      "trafficSource_medium              401589 non-null int32\n",
      "trafficSource_source              401589 non-null int32\n",
      "visitNumber                       401589 non-null int64\n",
      "visitStartTime                    401589 non-null int64\n",
      "dtypes: float64(6), int32(12), int64(2)\n",
      "memory usage: 42.9 MB\n"
     ]
    }
   ],
   "source": [
    "test.info()"
   ]
  },
  {
   "cell_type": "code",
   "execution_count": 20,
   "metadata": {},
   "outputs": [],
   "source": [
    "train.to_csv(\"train_preprocessed_new.csv\", index=False)\n",
    "test.to_csv(\"test_preprocessed_new.csv\", index=False)\n",
    "all_data.to_csv(\"all_data_preprocessed_new.csv\", index=False)"
   ]
  },
  {
   "cell_type": "code",
   "execution_count": 21,
   "metadata": {},
   "outputs": [
    {
     "name": "stdout",
     "output_type": "stream",
     "text": [
      "Total Time taken: 01:52:9.364\n"
     ]
    }
   ],
   "source": [
    "end_notebook = time.time()\n",
    "hours, rem = divmod(end_notebook-start_notebook, 3600)\n",
    "minutes, seconds = divmod(rem, 60)\n",
    "print(\"Total Time taken: {:0>2}:{:0>2}:{:05.3f}\".format(int(hours),int(minutes),seconds))"
   ]
  },
  {
   "cell_type": "code",
   "execution_count": null,
   "metadata": {},
   "outputs": [],
   "source": []
  }
 ],
 "metadata": {
  "kernelspec": {
   "display_name": "Python 3",
   "language": "python",
   "name": "python3"
  },
  "language_info": {
   "codemirror_mode": {
    "name": "ipython",
    "version": 3
   },
   "file_extension": ".py",
   "mimetype": "text/x-python",
   "name": "python",
   "nbconvert_exporter": "python",
   "pygments_lexer": "ipython3",
   "version": "3.6.8"
  }
 },
 "nbformat": 4,
 "nbformat_minor": 2
}
