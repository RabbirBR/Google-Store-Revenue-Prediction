{
 "cells": [
  {
   "cell_type": "code",
   "execution_count": 1,
   "metadata": {},
   "outputs": [],
   "source": [
    "import datetime, time\n",
    "\n",
    "import numpy as np\n",
    "import pandas as pd\n",
    "import matplotlib as mpl\n",
    "import matplotlib.pyplot as plt\n",
    "\n",
    "from sklearn.preprocessing import PolynomialFeatures\n",
    "from sklearn.linear_model import LinearRegression\n",
    "from sklearn.metrics import mean_squared_error\n",
    "\n",
    "from sklearn.model_selection import GridSearchCV\n",
    "\n",
    "from IPython.display import clear_output, display, HTML"
   ]
  },
  {
   "cell_type": "code",
   "execution_count": 2,
   "metadata": {},
   "outputs": [],
   "source": [
    "# Ignore warning\n",
    "import warnings\n",
    "warnings.filterwarnings('ignore')"
   ]
  },
  {
   "cell_type": "code",
   "execution_count": 3,
   "metadata": {},
   "outputs": [],
   "source": [
    "pd.set_option('display.max_columns', None)  # or 1000\n",
    "pd.set_option('display.max_rows', None)  # or 1000\n",
    "pd.set_option('display.max_colwidth', -1)  # or 199"
   ]
  },
  {
   "cell_type": "code",
   "execution_count": 4,
   "metadata": {},
   "outputs": [],
   "source": [
    "train = pd.read_csv(\"train_preprocessed.csv\")\n",
    "test = pd.read_csv(\"test_preprocessed.csv\")\n",
    "all_data = pd.read_csv(\"all_data_preprocessed.csv\")"
   ]
  },
  {
   "cell_type": "code",
   "execution_count": 5,
   "metadata": {},
   "outputs": [],
   "source": [
    "train_X = train.loc[:, train.columns != 'totals_totalTransactionRevenue']\n",
    "train_y = train['totals_totalTransactionRevenue']"
   ]
  },
  {
   "cell_type": "code",
   "execution_count": 6,
   "metadata": {},
   "outputs": [],
   "source": [
    "test_X = test.loc[:, test.columns != 'totals_totalTransactionRevenue']\n",
    "test_y = test['totals_totalTransactionRevenue']"
   ]
  },
  {
   "cell_type": "code",
   "execution_count": 7,
   "metadata": {},
   "outputs": [],
   "source": [
    "all_data_X = all_data.loc[:, all_data.columns != 'totals_totalTransactionRevenue']\n",
    "all_data_y = all_data['totals_totalTransactionRevenue']"
   ]
  },
  {
   "cell_type": "markdown",
   "metadata": {},
   "source": [
    "## Regression using 2 degree polynomial"
   ]
  },
  {
   "cell_type": "code",
   "execution_count": 8,
   "metadata": {},
   "outputs": [],
   "source": [
    "poly = PolynomialFeatures(degree=2)"
   ]
  },
  {
   "cell_type": "code",
   "execution_count": 9,
   "metadata": {},
   "outputs": [],
   "source": [
    "# start = time.time()\n",
    "\n",
    "# transf_train_X=poly.fit_transform(train_X)\n",
    "\n",
    "# end = time.time()\n",
    "# hours, rem = divmod(end-start, 3600)\n",
    "# minutes, seconds = divmod(rem, 60)\n",
    "# print(\"Time Taken: {:0>2}:{:0>2}:{:05.3f}\".format(int(hours),int(minutes),seconds))"
   ]
  },
  {
   "cell_type": "code",
   "execution_count": 10,
   "metadata": {},
   "outputs": [],
   "source": [
    "# start = time.time()\n",
    "\n",
    "# transf_test_X=poly.fit_transform(test_X)\n",
    "\n",
    "# end = time.time()\n",
    "# hours, rem = divmod(end-start, 3600)\n",
    "# minutes, seconds = divmod(rem, 60)\n",
    "# print(\"Time Taken: {:0>2}:{:0>2}:{:05.3f}\".format(int(hours),int(minutes),seconds))"
   ]
  },
  {
   "cell_type": "code",
   "execution_count": 11,
   "metadata": {},
   "outputs": [],
   "source": [
    "# start = time.time()\n",
    "\n",
    "# transf_all_data_X = poly.fit_transform(all_data_X)\n",
    "\n",
    "# end = time.time()\n",
    "# hours, rem = divmod(end-start, 3600)\n",
    "# minutes, seconds = divmod(rem, 60)\n",
    "# print(\"Time Taken: {:0>2}:{:0>2}:{:05.3f}\".format(int(hours),int(minutes),seconds))"
   ]
  },
  {
   "cell_type": "code",
   "execution_count": 12,
   "metadata": {},
   "outputs": [
    {
     "name": "stdout",
     "output_type": "stream",
     "text": [
      "fit_intercept \t-  [True, False]\n",
      "normalize \t-  [True, False]\n"
     ]
    }
   ],
   "source": [
    "parameters = {\n",
    "    'fit_intercept': [True, False],\n",
    "    'normalize': [True, False]\n",
    "}\n",
    "\n",
    "for key, values in parameters.items():\n",
    "    print(key,\"\\t- \", values)"
   ]
  },
  {
   "cell_type": "code",
   "execution_count": 13,
   "metadata": {},
   "outputs": [
    {
     "name": "stdout",
     "output_type": "stream",
     "text": [
      "Time Taken: 02:04:54.369\n"
     ]
    }
   ],
   "source": [
    "start = time.time()\n",
    "\n",
    "gridSearchResult = GridSearchCV(LinearRegression(),\n",
    "                                parameters, \n",
    "                                cv = 5, \n",
    "                                scoring='neg_mean_squared_error', \n",
    "                                verbose=5\n",
    "                               ).fit(poly.fit_transform(all_data_X), all_data_y)\n",
    "\n",
    "clear_output()\n",
    "\n",
    "end = time.time()\n",
    "hours, rem = divmod(end-start, 3600)\n",
    "minutes, seconds = divmod(rem, 60)\n",
    "print(\"Time Taken: {:0>2}:{:0>2}:{:05.3f}\".format(int(hours),int(minutes),seconds))"
   ]
  },
  {
   "cell_type": "code",
   "execution_count": 14,
   "metadata": {},
   "outputs": [
    {
     "data": {
      "text/html": [
       "<div>\n",
       "<style scoped>\n",
       "    .dataframe tbody tr th:only-of-type {\n",
       "        vertical-align: middle;\n",
       "    }\n",
       "\n",
       "    .dataframe tbody tr th {\n",
       "        vertical-align: top;\n",
       "    }\n",
       "\n",
       "    .dataframe thead th {\n",
       "        text-align: right;\n",
       "    }\n",
       "</style>\n",
       "<table border=\"1\" class=\"dataframe\">\n",
       "  <thead>\n",
       "    <tr style=\"text-align: right;\">\n",
       "      <th></th>\n",
       "      <th>0</th>\n",
       "      <th>1</th>\n",
       "      <th>2</th>\n",
       "      <th>3</th>\n",
       "    </tr>\n",
       "  </thead>\n",
       "  <tbody>\n",
       "    <tr>\n",
       "      <th>mean_fit_time</th>\n",
       "      <td>675.237</td>\n",
       "      <td>202.249</td>\n",
       "      <td>216.159</td>\n",
       "      <td>185.887</td>\n",
       "    </tr>\n",
       "    <tr>\n",
       "      <th>std_fit_time</th>\n",
       "      <td>469.41</td>\n",
       "      <td>30.5</td>\n",
       "      <td>46.0541</td>\n",
       "      <td>38.1712</td>\n",
       "    </tr>\n",
       "    <tr>\n",
       "      <th>mean_score_time</th>\n",
       "      <td>34.1078</td>\n",
       "      <td>9.34906</td>\n",
       "      <td>17.1862</td>\n",
       "      <td>9.53451</td>\n",
       "    </tr>\n",
       "    <tr>\n",
       "      <th>std_score_time</th>\n",
       "      <td>30.7109</td>\n",
       "      <td>4.25842</td>\n",
       "      <td>9.21239</td>\n",
       "      <td>4.09384</td>\n",
       "    </tr>\n",
       "    <tr>\n",
       "      <th>param_fit_intercept</th>\n",
       "      <td>True</td>\n",
       "      <td>True</td>\n",
       "      <td>False</td>\n",
       "      <td>False</td>\n",
       "    </tr>\n",
       "    <tr>\n",
       "      <th>param_normalize</th>\n",
       "      <td>True</td>\n",
       "      <td>False</td>\n",
       "      <td>True</td>\n",
       "      <td>False</td>\n",
       "    </tr>\n",
       "    <tr>\n",
       "      <th>params</th>\n",
       "      <td>{'fit_intercept': True, 'normalize': True}</td>\n",
       "      <td>{'fit_intercept': True, 'normalize': False}</td>\n",
       "      <td>{'fit_intercept': False, 'normalize': True}</td>\n",
       "      <td>{'fit_intercept': False, 'normalize': False}</td>\n",
       "    </tr>\n",
       "    <tr>\n",
       "      <th>split0_test_score</th>\n",
       "      <td>-2.79759e+14</td>\n",
       "      <td>-2.81859e+14</td>\n",
       "      <td>-2.81927e+14</td>\n",
       "      <td>-2.81927e+14</td>\n",
       "    </tr>\n",
       "    <tr>\n",
       "      <th>split1_test_score</th>\n",
       "      <td>-8.96291e+14</td>\n",
       "      <td>-8.89032e+14</td>\n",
       "      <td>-8.50578e+14</td>\n",
       "      <td>-8.50578e+14</td>\n",
       "    </tr>\n",
       "    <tr>\n",
       "      <th>split2_test_score</th>\n",
       "      <td>-5.03892e+14</td>\n",
       "      <td>-4.94106e+14</td>\n",
       "      <td>-4.94915e+14</td>\n",
       "      <td>-4.94915e+14</td>\n",
       "    </tr>\n",
       "    <tr>\n",
       "      <th>split3_test_score</th>\n",
       "      <td>-2.15197e+15</td>\n",
       "      <td>-2.1501e+15</td>\n",
       "      <td>-2.18915e+15</td>\n",
       "      <td>-2.18915e+15</td>\n",
       "    </tr>\n",
       "    <tr>\n",
       "      <th>split4_test_score</th>\n",
       "      <td>-3.95324e+14</td>\n",
       "      <td>-3.94189e+14</td>\n",
       "      <td>-4.0163e+14</td>\n",
       "      <td>-4.0163e+14</td>\n",
       "    </tr>\n",
       "    <tr>\n",
       "      <th>mean_test_score</th>\n",
       "      <td>-8.45447e+14</td>\n",
       "      <td>-8.41857e+14</td>\n",
       "      <td>-8.4364e+14</td>\n",
       "      <td>-8.4364e+14</td>\n",
       "    </tr>\n",
       "    <tr>\n",
       "      <th>std_test_score</th>\n",
       "      <td>6.85399e+14</td>\n",
       "      <td>6.85371e+14</td>\n",
       "      <td>6.98993e+14</td>\n",
       "      <td>6.98993e+14</td>\n",
       "    </tr>\n",
       "    <tr>\n",
       "      <th>rank_test_score</th>\n",
       "      <td>4</td>\n",
       "      <td>1</td>\n",
       "      <td>2</td>\n",
       "      <td>2</td>\n",
       "    </tr>\n",
       "    <tr>\n",
       "      <th>split0_train_score</th>\n",
       "      <td>-7.05654e+14</td>\n",
       "      <td>-7.09713e+14</td>\n",
       "      <td>-7.10237e+14</td>\n",
       "      <td>-7.10237e+14</td>\n",
       "    </tr>\n",
       "    <tr>\n",
       "      <th>split1_train_score</th>\n",
       "      <td>-6.33768e+14</td>\n",
       "      <td>-6.36107e+14</td>\n",
       "      <td>-6.38484e+14</td>\n",
       "      <td>-6.38484e+14</td>\n",
       "    </tr>\n",
       "    <tr>\n",
       "      <th>split2_train_score</th>\n",
       "      <td>-6.60648e+14</td>\n",
       "      <td>-6.64562e+14</td>\n",
       "      <td>-6.68652e+14</td>\n",
       "      <td>-6.68652e+14</td>\n",
       "    </tr>\n",
       "    <tr>\n",
       "      <th>split3_train_score</th>\n",
       "      <td>-2.98227e+14</td>\n",
       "      <td>-3.0134e+14</td>\n",
       "      <td>-3.29588e+14</td>\n",
       "      <td>-3.29588e+14</td>\n",
       "    </tr>\n",
       "    <tr>\n",
       "      <th>split4_train_score</th>\n",
       "      <td>-6.81177e+14</td>\n",
       "      <td>-6.84667e+14</td>\n",
       "      <td>-6.90276e+14</td>\n",
       "      <td>-6.90276e+14</td>\n",
       "    </tr>\n",
       "    <tr>\n",
       "      <th>mean_train_score</th>\n",
       "      <td>-5.95895e+14</td>\n",
       "      <td>-5.99278e+14</td>\n",
       "      <td>-6.07447e+14</td>\n",
       "      <td>-6.07447e+14</td>\n",
       "    </tr>\n",
       "    <tr>\n",
       "      <th>std_train_score</th>\n",
       "      <td>1.50701e+14</td>\n",
       "      <td>1.50912e+14</td>\n",
       "      <td>1.40955e+14</td>\n",
       "      <td>1.40955e+14</td>\n",
       "    </tr>\n",
       "  </tbody>\n",
       "</table>\n",
       "</div>"
      ],
      "text/plain": [
       "                                                              0  \\\n",
       "mean_fit_time        675.237                                      \n",
       "std_fit_time         469.41                                       \n",
       "mean_score_time      34.1078                                      \n",
       "std_score_time       30.7109                                      \n",
       "param_fit_intercept  True                                         \n",
       "param_normalize      True                                         \n",
       "params               {'fit_intercept': True, 'normalize': True}   \n",
       "split0_test_score   -2.79759e+14                                  \n",
       "split1_test_score   -8.96291e+14                                  \n",
       "split2_test_score   -5.03892e+14                                  \n",
       "split3_test_score   -2.15197e+15                                  \n",
       "split4_test_score   -3.95324e+14                                  \n",
       "mean_test_score     -8.45447e+14                                  \n",
       "std_test_score       6.85399e+14                                  \n",
       "rank_test_score      4                                            \n",
       "split0_train_score  -7.05654e+14                                  \n",
       "split1_train_score  -6.33768e+14                                  \n",
       "split2_train_score  -6.60648e+14                                  \n",
       "split3_train_score  -2.98227e+14                                  \n",
       "split4_train_score  -6.81177e+14                                  \n",
       "mean_train_score    -5.95895e+14                                  \n",
       "std_train_score      1.50701e+14                                  \n",
       "\n",
       "                                                               1  \\\n",
       "mean_fit_time        202.249                                       \n",
       "std_fit_time         30.5                                          \n",
       "mean_score_time      9.34906                                       \n",
       "std_score_time       4.25842                                       \n",
       "param_fit_intercept  True                                          \n",
       "param_normalize      False                                         \n",
       "params               {'fit_intercept': True, 'normalize': False}   \n",
       "split0_test_score   -2.81859e+14                                   \n",
       "split1_test_score   -8.89032e+14                                   \n",
       "split2_test_score   -4.94106e+14                                   \n",
       "split3_test_score   -2.1501e+15                                    \n",
       "split4_test_score   -3.94189e+14                                   \n",
       "mean_test_score     -8.41857e+14                                   \n",
       "std_test_score       6.85371e+14                                   \n",
       "rank_test_score      1                                             \n",
       "split0_train_score  -7.09713e+14                                   \n",
       "split1_train_score  -6.36107e+14                                   \n",
       "split2_train_score  -6.64562e+14                                   \n",
       "split3_train_score  -3.0134e+14                                    \n",
       "split4_train_score  -6.84667e+14                                   \n",
       "mean_train_score    -5.99278e+14                                   \n",
       "std_train_score      1.50912e+14                                   \n",
       "\n",
       "                                                               2  \\\n",
       "mean_fit_time        216.159                                       \n",
       "std_fit_time         46.0541                                       \n",
       "mean_score_time      17.1862                                       \n",
       "std_score_time       9.21239                                       \n",
       "param_fit_intercept  False                                         \n",
       "param_normalize      True                                          \n",
       "params               {'fit_intercept': False, 'normalize': True}   \n",
       "split0_test_score   -2.81927e+14                                   \n",
       "split1_test_score   -8.50578e+14                                   \n",
       "split2_test_score   -4.94915e+14                                   \n",
       "split3_test_score   -2.18915e+15                                   \n",
       "split4_test_score   -4.0163e+14                                    \n",
       "mean_test_score     -8.4364e+14                                    \n",
       "std_test_score       6.98993e+14                                   \n",
       "rank_test_score      2                                             \n",
       "split0_train_score  -7.10237e+14                                   \n",
       "split1_train_score  -6.38484e+14                                   \n",
       "split2_train_score  -6.68652e+14                                   \n",
       "split3_train_score  -3.29588e+14                                   \n",
       "split4_train_score  -6.90276e+14                                   \n",
       "mean_train_score    -6.07447e+14                                   \n",
       "std_train_score      1.40955e+14                                   \n",
       "\n",
       "                                                                3  \n",
       "mean_fit_time        185.887                                       \n",
       "std_fit_time         38.1712                                       \n",
       "mean_score_time      9.53451                                       \n",
       "std_score_time       4.09384                                       \n",
       "param_fit_intercept  False                                         \n",
       "param_normalize      False                                         \n",
       "params               {'fit_intercept': False, 'normalize': False}  \n",
       "split0_test_score   -2.81927e+14                                   \n",
       "split1_test_score   -8.50578e+14                                   \n",
       "split2_test_score   -4.94915e+14                                   \n",
       "split3_test_score   -2.18915e+15                                   \n",
       "split4_test_score   -4.0163e+14                                    \n",
       "mean_test_score     -8.4364e+14                                    \n",
       "std_test_score       6.98993e+14                                   \n",
       "rank_test_score      2                                             \n",
       "split0_train_score  -7.10237e+14                                   \n",
       "split1_train_score  -6.38484e+14                                   \n",
       "split2_train_score  -6.68652e+14                                   \n",
       "split3_train_score  -3.29588e+14                                   \n",
       "split4_train_score  -6.90276e+14                                   \n",
       "mean_train_score    -6.07447e+14                                   \n",
       "std_train_score      1.40955e+14                                   "
      ]
     },
     "execution_count": 14,
     "metadata": {},
     "output_type": "execute_result"
    }
   ],
   "source": [
    "# Show all results\n",
    "results_df = pd.DataFrame.from_dict(gridSearchResult.cv_results_)\n",
    "results_df.T"
   ]
  },
  {
   "cell_type": "code",
   "execution_count": 15,
   "metadata": {},
   "outputs": [
    {
     "data": {
      "text/html": [
       "<div>\n",
       "<style scoped>\n",
       "    .dataframe tbody tr th:only-of-type {\n",
       "        vertical-align: middle;\n",
       "    }\n",
       "\n",
       "    .dataframe tbody tr th {\n",
       "        vertical-align: top;\n",
       "    }\n",
       "\n",
       "    .dataframe thead th {\n",
       "        text-align: right;\n",
       "    }\n",
       "</style>\n",
       "<table border=\"1\" class=\"dataframe\">\n",
       "  <thead>\n",
       "    <tr style=\"text-align: right;\">\n",
       "      <th></th>\n",
       "      <th>1</th>\n",
       "    </tr>\n",
       "  </thead>\n",
       "  <tbody>\n",
       "    <tr>\n",
       "      <th>fit_intercept</th>\n",
       "      <td>True</td>\n",
       "    </tr>\n",
       "    <tr>\n",
       "      <th>normalize</th>\n",
       "      <td>False</td>\n",
       "    </tr>\n",
       "    <tr>\n",
       "      <th>mean_fit_time</th>\n",
       "      <td>202.249</td>\n",
       "    </tr>\n",
       "    <tr>\n",
       "      <th>std_fit_time</th>\n",
       "      <td>30.5</td>\n",
       "    </tr>\n",
       "    <tr>\n",
       "      <th>mean_train_score</th>\n",
       "      <td>-5.99278e+14</td>\n",
       "    </tr>\n",
       "    <tr>\n",
       "      <th>std_train_score</th>\n",
       "      <td>1.50912e+14</td>\n",
       "    </tr>\n",
       "    <tr>\n",
       "      <th>mean_test_score</th>\n",
       "      <td>-8.41857e+14</td>\n",
       "    </tr>\n",
       "    <tr>\n",
       "      <th>std_test_score</th>\n",
       "      <td>6.85371e+14</td>\n",
       "    </tr>\n",
       "  </tbody>\n",
       "</table>\n",
       "</div>"
      ],
      "text/plain": [
       "                            1\n",
       "fit_intercept     True       \n",
       "normalize         False      \n",
       "mean_fit_time     202.249    \n",
       "std_fit_time      30.5       \n",
       "mean_train_score -5.99278e+14\n",
       "std_train_score   1.50912e+14\n",
       "mean_test_score  -8.41857e+14\n",
       "std_test_score    6.85371e+14"
      ]
     },
     "execution_count": 15,
     "metadata": {},
     "output_type": "execute_result"
    }
   ],
   "source": [
    "# Results with rank 1\n",
    "rank_one = results_df[results_df['rank_test_score'] == 1][['params', 'mean_fit_time', 'std_fit_time', 'mean_train_score', 'std_train_score', 'mean_test_score', 'std_test_score']]\n",
    "rank_one = pd.concat([rank_one['params'].apply(pd.Series), rank_one], axis = 1, sort=True).drop(columns = 'params')\n",
    "rank_one.T"
   ]
  },
  {
   "cell_type": "code",
   "execution_count": 16,
   "metadata": {},
   "outputs": [
    {
     "data": {
      "text/plain": [
       "LinearRegression(copy_X=True, fit_intercept=True, n_jobs=None,\n",
       "         normalize=False)"
      ]
     },
     "execution_count": 16,
     "metadata": {},
     "output_type": "execute_result"
    }
   ],
   "source": [
    "gridSearchResult.best_estimator_"
   ]
  },
  {
   "cell_type": "code",
   "execution_count": 17,
   "metadata": {},
   "outputs": [],
   "source": [
    "start = time.time()\n",
    "\n",
    "model = gridSearchResult.best_estimator_.fit(poly.fit_transform(train_X), train_y)\n",
    "\n",
    "end = time.time()\n",
    "hours, rem = divmod(end-start, 3600)\n",
    "minutes, seconds = divmod(rem, 60)\n",
    "time_taken = \"{:0>2}:{:0>2}:{:05.3f}\".format(int(hours),int(minutes),seconds)"
   ]
  },
  {
   "cell_type": "code",
   "execution_count": 18,
   "metadata": {},
   "outputs": [],
   "source": [
    "predictions = pd.Series(model.predict(poly.fit_transform(test_X)))"
   ]
  },
  {
   "cell_type": "code",
   "execution_count": 19,
   "metadata": {},
   "outputs": [
    {
     "name": "stdout",
     "output_type": "stream",
     "text": [
      "Mean Squared Error: 17103568.814401194\n",
      "Time Taken to Fit: 00:01:16.082\n"
     ]
    }
   ],
   "source": [
    "print(\"Mean Squared Error:\", (mean_squared_error(test_y, predictions))**0.5)\n",
    "print(\"Time Taken to Fit:\", time_taken)"
   ]
  },
  {
   "cell_type": "code",
   "execution_count": 20,
   "metadata": {},
   "outputs": [
    {
     "data": {
      "image/png": "[encoded data removed]",
      "text/plain": [
       "<Figure size 2160x576 with 1 Axes>"
      ]
     },
     "metadata": {
      "needs_background": "light"
     },
     "output_type": "display_data"
    }
   ],
   "source": [
    "fig = plt.figure(figsize=(30,8))\n",
    "ax = plt.axes()\n",
    "\n",
    "ax.plot(predictions.index, predictions, color = 'blue', label='Prediction')\n",
    "ax.scatter(test_y.index, test_y, color = 'red', label='Real Value')\n",
    "\n",
    "ax.legend(loc='best')\n",
    "plt.show()"
   ]
  }
 ],
 "metadata": {
  "kernelspec": {
   "display_name": "Python 3",
   "language": "python",
   "name": "python3"
  },
  "language_info": {
   "codemirror_mode": {
    "name": "ipython",
    "version": 3
   },
   "file_extension": ".py",
   "mimetype": "text/x-python",
   "name": "python",
   "nbconvert_exporter": "python",
   "pygments_lexer": "ipython3",
   "version": "3.6.8"
  }
 },
 "nbformat": 4,
 "nbformat_minor": 2
}
